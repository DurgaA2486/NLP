{
 "cells": [
  {
   "cell_type": "code",
   "execution_count": 3,
   "id": "df2aa4f3-f36b-4dad-b7c4-afdb454a401e",
   "metadata": {},
   "outputs": [
    {
     "data": {
      "text/plain": [
       "FreqDist({'the': 4, 'that': 2, 'solution': 2, 'piece': 2, 'choosing': 2, 'Greedy': 1, 'is': 1, 'an': 1, 'algorithmic': 1, 'paradigm': 1, ...})"
      ]
     },
     "execution_count": 3,
     "metadata": {},
     "output_type": "execute_result"
    }
   ],
   "source": [
    "import nltk\n",
    "text1=\"Greedy is an algorithmic paradigm that builds up a solution piece by piece, always choosing the next piece that offers the most obvious and immediate benefit. So the problems where choosing locally optimal also leads to global solution are the best fit for Greedy.\"\n",
    "fd=nltk.FreqDist(text1.split())\n",
    "fd"
   ]
  },
  {
   "cell_type": "code",
   "execution_count": 8,
   "id": "c211d627-f8d0-441d-a861-cb781f11c414",
   "metadata": {},
   "outputs": [
    {
     "data": {
      "text/plain": [
       "FreqDist({'the': 6, ',': 5, 'our': 5, 'a': 4, 'of': 3, 'century': 3, 'us': 3, 'that': 3, 'in': 3, '.': 3, ...})"
      ]
     },
     "execution_count": 8,
     "metadata": {},
     "output_type": "execute_result"
    }
   ],
   "source": [
    "from nltk.corpus import inaugural\n",
    "inaugural.fileids()\n",
    "text2=inaugural.words(fileids='1997-Clinton.txt')[0:100]\n",
    "#since the data is already in the list format there is no need to apply split() function\n",
    "frq=nltk.FreqDist(text2)\n",
    "frq"
   ]
  },
  {
   "cell_type": "code",
   "execution_count": 10,
   "id": "ae459af8-656f-4db0-9d45-f565ce9c7d53",
   "metadata": {},
   "outputs": [
    {
     "data": {
      "text/plain": [
       "FreqDist({'fellow': 1, 'toward': 1, 'chance': 1, 'bright': 1, 'moment': 1, 'define': 1, 'course': 1, 'Guided': 1})"
      ]
     },
     "execution_count": 10,
     "metadata": {},
     "output_type": "execute_result"
    }
   ],
   "source": [
    "from nltk.probability import ConditionalFreqDist\n",
    "#to chech the datas of specific length\n",
    "cfd=ConditionalFreqDist((len(word),word)for word in text2)\n",
    "cfd[6]"
   ]
  },
  {
   "cell_type": "code",
   "execution_count": 13,
   "id": "d629d855-e139-4f66-ad5a-30a92bfa53c8",
   "metadata": {},
   "outputs": [
    {
     "data": {
      "text/plain": [
       "FreqDist({'challenges': 1, 'millennium': 1})"
      ]
     },
     "execution_count": 13,
     "metadata": {},
     "output_type": "execute_result"
    }
   ],
   "source": [
    "cfd[10]"
   ]
  },
  {
   "cell_type": "code",
   "execution_count": 16,
   "id": "97abfc7c-8194-403d-9bb2-6eaf11276b04",
   "metadata": {},
   "outputs": [
    {
     "name": "stdout",
     "output_type": "stream",
     "text": [
      "私,の,名,前,はドゥルガです\n"
     ]
    }
   ],
   "source": [
    "import jieba\n",
    "seg_list=jieba.cut(\"私の名前はドゥルガです\",cut_all=True)\n",
    "print(\",\".join(seg_list))"
   ]
  },
  {
   "cell_type": "code",
   "execution_count": null,
   "id": "8a034042-3e89-4d5e-a247-82cfdfcc194c",
   "metadata": {},
   "outputs": [],
   "source": []
  }
 ],
 "metadata": {
  "kernelspec": {
   "display_name": "Python 3 (ipykernel)",
   "language": "python",
   "name": "python3"
  },
  "language_info": {
   "codemirror_mode": {
    "name": "ipython",
    "version": 3
   },
   "file_extension": ".py",
   "mimetype": "text/x-python",
   "name": "python",
   "nbconvert_exporter": "python",
   "pygments_lexer": "ipython3",
   "version": "3.12.1"
  }
 },
 "nbformat": 4,
 "nbformat_minor": 5
}
